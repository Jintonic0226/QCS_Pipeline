{
 "cells": [
  {
   "cell_type": "markdown",
   "id": "d4aebd14-1974-4e4e-aa94-e73505d92336",
   "metadata": {},
   "source": [
    "<h1><b>Tutorial: Demonstration of QCS Pipeline</b></h1>\n",
    "<a id=\"tutorial\"></a>\n",
    "\n",
    "<p>This is tutorial for users for QCS Pipeline. This will go over background knowledge about MALDI-MSI and purpose of the novel Quality Control Standard and its pipeline for Batch Effect evaluation and correction.</p>\n",
    "\n",
    "<p>Contents:</p>\n",
    "\n",
    "1. Background Knowledge\n",
    "2. Our Quality Control Standard Experiment\n",
    "3. Instructions\n",
    "4. Relative Standard Deviation\n",
    "5. Intensity Plot\n",
    "6. Violin Plot\n",
    "7. PCA plot\n",
    "\n",
    "<p>To run this tutorial, you can click run button for each cell or press Shift + Enter on your keyboard.</p>"
   ]
  },
  {
   "cell_type": "markdown",
   "id": "eac8a5b8-fa0c-46c6-b01f-4fde77731917",
   "metadata": {},
   "source": [
    "<h2><b> Background Knowledge </b></h2>\n",
    "<a id=\"background_knowledge\"></a>\n",
    "\n",
    "<p>Matrix-assisted laser desorption/ionization mass spectrometry imaging (MALDI-MSI) techniques allow us to perform spatial molecular profiling. Despite many successful applications in tumor classification and cancer biomarker discovery, its transition to clinical studies is challenged due to a lack of control of technical variation. To address this, we introduced a novel quality control standard to account for variability caused by sample preparation and instrument performance.</p>"
   ]
  },
  {
   "cell_type": "markdown",
   "id": "23e35920-d42b-4bd2-9075-51c354b107f4",
   "metadata": {},
   "source": [
    "<h2><b> Our Quality Control Standard Experiment </b></h2>\n",
    "<a id=\"quality_control_experiment\"></a>\n",
    "\n",
    "<p></p>"
   ]
  }
 ],
 "metadata": {
  "kernelspec": {
   "display_name": "R",
   "language": "R",
   "name": "ir"
  },
  "language_info": {
   "codemirror_mode": "r",
   "file_extension": ".r",
   "mimetype": "text/x-r-source",
   "name": "R",
   "pygments_lexer": "r",
   "version": "4.3.3"
  }
 },
 "nbformat": 4,
 "nbformat_minor": 5
}
