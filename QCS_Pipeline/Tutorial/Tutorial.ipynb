{
 "cells": [
  {
   "cell_type": "markdown",
   "id": "d4aebd14-1974-4e4e-aa94-e73505d92336",
   "metadata": {},
   "source": [
    "<h1><b>Tutorial: Demonstration of QCS Pipeline</b></h1>\n",
    "<a id=\"tutorial\"></a>\n",
    "\n",
    "<p>This is tutorial for users for QCS Pipeline. This will go over background knowledge about MALDI-MSI and purpose of the novel Quality Control Standard and its pipeline for Batch Effect evaluation and correction.</p>\n",
    "\n",
    "<p>Contents:</p>\n",
    "\n",
    "1. Background Knowledge\n",
    "2. Our Quality Control Standard Experiment\n",
    "3. Instructions\n",
    "4. Relative Standard Deviation\n",
    "5. Intensity Plot\n",
    "6. Violin Plot\n",
    "7. PCA plot\n",
    "\n",
    "<p>To run this tutorial, you can click run button for each cell or press <b>Shift + Enter</b> on your keyboard.</p>"
   ]
  },
  {
   "cell_type": "markdown",
   "id": "eac8a5b8-fa0c-46c6-b01f-4fde77731917",
   "metadata": {},
   "source": [
    "<h2><b> Background Knowledge </b></h2>\n",
    "<a id=\"background_knowledge\"></a>\n",
    "\n",
    "<p>Matrix-assisted laser desorption/ionization mass spectrometry imaging (MALDI-MSI) techniques allow us to perform spatial molecular profiling. Despite many successful applications in tumor classification and cancer biomarker discovery, its transition to clinical studies is challenged due to a lack of control of technical variation. To address this, we introduced a novel quality control standard to account for variability caused by sample preparation and instrument performance.</p>"
   ]
  },
  {
   "cell_type": "markdown",
   "id": "23e35920-d42b-4bd2-9075-51c354b107f4",
   "metadata": {},
   "source": [
    "<h2><b> Our Quality Control Standard Experiment </b></h2>\n",
    "<a id=\"quality_control_experiment\"></a>\n",
    "<p>The study by \"Luo's Paper\" proposed a novel Quality Control Standard (QCS) to control the variation caused by sample preparation and instrument performance in matrix-assisted laser desorption/ionization mass spectrometry imaging (MALDI-MSI).</p>\n",
    "\n",
    "<p>Our Quality Control Standard experiment consists of three-day MALDI-MSI experiment using 18 slides with 3 tissue types.</p>\n",
    "\n",
    "<p>After performing MALDI-MSI experiment, SCiLS Lab software was used to process the MALDI-MSI data. Raw data files from each batch in the experiment were imported into one file and processed with baseline subtraction. The final feature tables, including both QCS features and tissue features, were then exported in two formats. For Pipeline #1, the final feature table only contained QCS features; however, for Pipeline #2, the final feature table needed to include both QCS and tissue features.</p>"
   ]
  },
  {
   "cell_type": "markdown",
   "id": "26b6ebc2-9969-4a0f-aeb1-251e5a2fa348",
   "metadata": {},
   "source": [
    "<h2><b>Instructions</b></h2>\n",
    "<a id=\"instructions\"></a>\n",
    "\n",
    "<h3><b>1. Upload your peak dataset</b></h3> \n",
    "<p>The peak dataset from MALDI-MSI data should contain tissue feature and/or Quality Control Standard (QCS) features in two formats: no normalization and Total Ion Count (TIC) normalization.</p>\n",
    "\n",
    "<p>You need to upload a total of three CSV files:</p>\n",
    "\n",
    "<p><b>No normalization dataset:</b> This CSV file contains peak data of without any normalization. It should be directly obtained from SCiLS Lab software and exported as CSV file.</p>\n",
    "\n",
    "<p><b>TIC normalization dataset:</b> This CSV file contains peak data with Total Ion Count (TIC) normalization. It should also be directly obtained from SCiLS Lab software and exported as a CSV file.</p>\n",
    "\n",
    "<p><b>Batch information:</b> This CSV file includes batch information for the samples, with one column for the sample name, one for the injection order, and one for the batch number.</p>\n",
    "\n",
    "<p>To upload the CSV files, place them into the \"input\" folder. You can drag the files into the folder ssection labeled \"input\". To access these files in the notebook, you would call them in a coding cell as shown below.</p>"
   ]
  },
  {
   "cell_type": "markdown",
   "id": "ebb3dd14-fae3-46b3-9ea4-3568752774d4",
   "metadata": {},
   "source": [
    "<h3><b>1.1 Accessing the CSV files</b></h3>\n",
    "<p>You can place the file path inside the quotation marks (\"\"). To copy the file path, right-click the file and select \"Copy File Path.\"</p>"
   ]
  },
  {
   "cell_type": "code",
   "execution_count": 2,
   "id": "794fa6c2-4e61-4aab-ad56-c577936471e9",
   "metadata": {},
   "outputs": [
    {
     "name": "stderr",
     "output_type": "stream",
     "text": [
      "Warning message in file(file, \"rt\"):\n",
      "“cannot open file 'input/119feature_T&QCS_BaseRemoval_noNorm.csv': No such file or directory”\n"
     ]
    },
    {
     "ename": "ERROR",
     "evalue": "Error in file(file, \"rt\"): cannot open the connection\n",
     "output_type": "error",
     "traceback": [
      "Error in file(file, \"rt\"): cannot open the connection\nTraceback:\n",
      "1. read.csv(\"input/119feature_T&QCS_BaseRemoval_noNorm.csv\", header = FALSE, \n .     check.names = FALSE, stringsAsFactors = FALSE)",
      "2. read.table(file = file, header = header, sep = sep, quote = quote, \n .     dec = dec, fill = fill, comment.char = comment.char, ...)",
      "3. file(file, \"rt\")"
     ]
    }
   ],
   "source": [
    "# Accessing the CSV files #\n",
    "no_normalization_data_1 <- read.csv(\"input/119feature_T&QCS_BaseRemoval_noNorm.csv\", ## change file path ##\n",
    "                                  header = FALSE,\n",
    "                                  check.names = FALSE,\n",
    "                                  stringsAsFactors = FALSE)\n",
    "\n",
    "TIC_normalization_data_1 <- read.csv(\"input/119feature_T&QCS_BaseRemoval_TICNorm.csv\", ## change file path ##\n",
    "                                   header = FALSE,\n",
    "                                   check.names = FALSE,\n",
    "                                   stringsAsFactors = FALSE) \n",
    "\n",
    "batch_info_1 <- read.csv(\"input/batch_info_TIC.csv\", ## change file path ##\n",
    "                       header = TRUE,\n",
    "                       check.names = FALSE,\n",
    "                       stringsAsFactors = FALSE) "
   ]
  },
  {
   "cell_type": "markdown",
   "id": "390416c9-6776-4bbc-a611-a64cc7d622f6",
   "metadata": {},
   "source": [
    "<p>You can check the csv files how they look</p>"
   ]
  },
  {
   "cell_type": "code",
   "execution_count": 1,
   "id": "7b2042d2-330a-4d37-b603-ec02127e1200",
   "metadata": {},
   "outputs": [
    {
     "ename": "ERROR",
     "evalue": "Error in eval(expr, envir, enclos): object 'no_normalization_data_1' not found\n",
     "output_type": "error",
     "traceback": [
      "Error in eval(expr, envir, enclos): object 'no_normalization_data_1' not found\nTraceback:\n",
      "1. head(no_normalization_data_1)"
     ]
    }
   ],
   "source": [
    "head(no_normalization_data_1)\n",
    "head(TIC_normalization_data_1)\n",
    "head(batch_info_1)"
   ]
  },
  {
   "cell_type": "code",
   "execution_count": null,
   "id": "b7857455-8f06-43a2-a688-f45968d07987",
   "metadata": {},
   "outputs": [],
   "source": [
    "\n",
    "propranolol_mz_value_1 <- as.numeric(readline(\"Please enter Propranolol m/z value: \")) ## ie: 260.186 ##\n",
    "\n",
    "d7_propranolol_mz_value_1 <- as.numeric(readline(\"Please enter D7-propranolol m/z value: \")) ## ie: 267.187 ##\n",
    "\n",
    "\n",
    "sample_set_1 <- c(\"ChickenHeart\", \"ChickenLiver\", \"GoatLiver\") ## change sample type names ##"
   ]
  }
 ],
 "metadata": {
  "kernelspec": {
   "display_name": "R",
   "language": "R",
   "name": "ir"
  },
  "language_info": {
   "codemirror_mode": "r",
   "file_extension": ".r",
   "mimetype": "text/x-r-source",
   "name": "R",
   "pygments_lexer": "r",
   "version": "4.3.3"
  }
 },
 "nbformat": 4,
 "nbformat_minor": 5
}
